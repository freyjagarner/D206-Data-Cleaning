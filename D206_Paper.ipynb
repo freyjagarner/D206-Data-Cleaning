{
 "cells": [
  {
   "cell_type": "markdown",
   "id": "2cb72a9f-1e81-40cb-a882-07108db22808",
   "metadata": {},
   "source": []
  },
  {
   "cell_type": "markdown",
   "id": "371b57c2-99d7-477c-a545-3f3e2f03ed41",
   "metadata": {},
   "source": []
  },
  {
   "cell_type": "code",
   "execution_count": null,
   "id": "c0fafa1c-d6e9-4456-8067-f4ca42d0f5f7",
   "metadata": {},
   "outputs": [],
   "source": [
    "# drop duplicate CaseOrder column\n",
    "df = df.drop(columns='Unnamed: 0')"
   ]
  },
  {
   "cell_type": "markdown",
   "id": "9a41ac00-24b3-4c3f-b93d-28a75e09c9d7",
   "metadata": {
    "tags": [
     "hide-output",
     "remove-output"
    ]
   },
   "source": []
  },
  {
   "cell_type": "code",
   "execution_count": null,
   "id": "519a347b-47ea-4e6b-ad7d-333cbf681611",
   "metadata": {},
   "outputs": [],
   "source": [
    "# create a dictionary of current column names mapping to desired column names\n",
    "survey_dict = {'item1':'timely_responses', 'item2':'timely_fixes', 'item3':'timely_replacements', \n",
    "               'item4':'reliability', 'item5':'options', 'item6':'respectful_response', \n",
    "               'item7':'courteous_exchange', 'item8':'evidence_of_active_listening'}\n",
    "\n",
    "# rename the column names based on survey_dict\n",
    "df = df.rename(columns=survey_dict)"
   ]
  },
  {
   "cell_type": "markdown",
   "id": "c1ecb77f-594f-4e0c-9899-3cb507dd0e40",
   "metadata": {},
   "source": []
  },
  {
   "cell_type": "code",
   "execution_count": null,
   "id": "bb6a6a17-2dc8-4b5a-bf7e-d33326b77c6c",
   "metadata": {
    "tags": []
   },
   "outputs": [],
   "source": [
    "# create an empty dataframe to store short zip codes\n",
    "incorrect_zips = pd.DataFrame()\n",
    "\n",
    "# get a list of all unique zip codes\n",
    "zips = list(df['Zip'].unique())\n",
    "\n",
    "# append rows containing short zip codes to incorrect_zips dataframe\n",
    "for i in zips:\n",
    "    if len(str(i)) < 5:\n",
    "        incorrect_zips = incorrect_zips.append(df.loc[df['Zip'] == i])\n",
    "\n",
    "# function to fill zip codes less than 5 numbers long with leading zeros\n",
    "def fill_zeros(x):\n",
    "    if len(x) < 6:\n",
    "        return x.zfill(5)\n",
    "    else:\n",
    "        pass\n",
    "    \n",
    "# convert zip code type to string to add zeros\n",
    "df.Zip = df.Zip.astype(str)\n",
    "\n",
    "# apply zero filling function to zip codes.\n",
    "df.Zip = df.Zip.apply(fill_zeros)"
   ]
  },
  {
   "cell_type": "markdown",
   "id": "1914b8b5-37c6-45c4-a3a6-2a8c7f6ce5dc",
   "metadata": {},
   "source": []
  },
  {
   "cell_type": "markdown",
   "id": "1b62c09f-6b27-4ced-849e-0fc58d51b632",
   "metadata": {},
   "source": [
    "\n",
    " \n",
    "* For null children I randomly assigned 0 or 1 child to the households with missing data. Over half of customers had one of these values for the number of children with 0 being the most common value and 1 being the median value, and so these were randomly assigned. This resulted in the loss of null values and a similar distribution of children values that we had to be gin with."
   ]
  },
  {
   "cell_type": "code",
   "execution_count": null,
   "id": "d0cc806a-7481-477f-b6b8-c9afdce3cd05",
   "metadata": {},
   "outputs": [],
   "source": [
    "# change the NA values of children to 0 or 1 randomly\n",
    "df.loc[df['Children'].isna(), 'Children'] = np.random.choice([0,1], len(df.loc[df['Children'].isna(), 'Children']))"
   ]
  },
  {
   "cell_type": "markdown",
   "id": "9a03a2fb-7bcd-4323-8cae-4056d1b5f45e",
   "metadata": {},
   "source": []
  },
  {
   "cell_type": "code",
   "execution_count": null,
   "id": "56c3348e-3f5a-4367-a386-ba6cfa35f62c",
   "metadata": {},
   "outputs": [],
   "source": [
    "# create random ages in age range\n",
    "age_range = np.arange(start=18, stop=89)\n",
    "\n",
    "# assign random ages in age range to NA ages in our data\n",
    "df.loc[df.Age.isna(), 'Age'] = np.random.choice(age_range, len(df.loc[df.Age.isna(), 'Age']))"
   ]
  },
  {
   "cell_type": "markdown",
   "id": "0d473086-0408-47cd-bbde-a252d21c7187",
   "metadata": {},
   "source": []
  },
  {
   "cell_type": "code",
   "execution_count": null,
   "id": "f6accc36-d04f-47ce-b20a-524aacb91b0b",
   "metadata": {},
   "outputs": [],
   "source": [
    "# find where Techie is NA and assign a random Yes or No value based on the current distribution of Yes and No values\n",
    "df.loc[df['Techie'].isna(), 'Techie'] = np.random.choice([\"Yes\", \"No\"], len(df.loc[df['Techie'].isna(), 'Techie']), p=[0.167088, .832912])\n",
    "\n",
    "# find where Phone is NA and assign a random Yes or No value based on the current distribution of Yes and No values\n",
    "df.loc[df['Phone'].isna(), 'Phone'] = np.random.choice(['Yes', 'No'], len(df.loc[df['Phone'].isna(), 'Phone']), p=[.91, 0.09])\n",
    "\n",
    "# find where TechSupport is NA and assign a random Yes or No value based on the current distribution of Yes and No values\n",
    "df.loc[df['TechSupport'].isna(), 'TechSupport'] = np.random.choice(['Yes', 'No'], len(df.loc[df['TechSupport'].isna(), 'TechSupport']), p=[0.374514,0.625486])"
   ]
  },
  {
   "cell_type": "markdown",
   "id": "fdb55393-c755-4b8e-8dc5-932128ab7401",
   "metadata": {},
   "source": []
  },
  {
   "cell_type": "code",
   "execution_count": null,
   "id": "b08e61ca-47db-4350-8f2b-e0cdd19445fd",
   "metadata": {},
   "outputs": [],
   "source": [
    "# assign the median income to NA incomes\n",
    "df.loc[df['Income'].isna(), 'Income'] = df['Income'].median()\n",
    "\n",
    "# assign the median Tenure to NA Tenures\n",
    "df.loc[df['Tenure'].isna(), 'Tenure'] = df['Tenure'].median()\n",
    "\n",
    "# assign the median Bandwidth_GB_Year to NA Bandwidth_GB_Year\n",
    "df.loc[df['Bandwidth_GB_Year'].isna(), 'Bandwidth_GB_Year'] = df['Bandwidth_GB_Year'].median()"
   ]
  },
  {
   "cell_type": "markdown",
   "id": "504a8252-3b96-434f-9c35-10ba51946bd5",
   "metadata": {},
   "source": []
  },
  {
   "cell_type": "code",
   "execution_count": null,
   "id": "b605c588-b23d-4711-a65c-1556608b4a64",
   "metadata": {},
   "outputs": [],
   "source": [
    "# change the dataframe columns to more appropriate data types\n",
    "df = df.astype( {'Customer_id':'string', 'Interaction':'string', 'City':'string', 'State':'string', 'County':'string', 'Zip':'string', 'Lat':float,\n",
    "       'Lng':float, 'Population':int, 'Area':'category', 'Timezone':'category', 'Job':'category', 'Children':int, 'Age':int,\n",
    "       'Education':'category', 'Employment':'category', 'Income':float, 'Marital':'category', 'Gender':'category', 'Churn':'category',\n",
    "       'Outage_sec_perweek':float, 'Email':int, 'Contacts':int, 'Yearly_equip_failure':int,\n",
    "       'Techie':'category', 'Contract':'category', 'Port_modem':'category', 'Tablet':'category', 'InternetService':'category',\n",
    "       'Phone':'category', 'Multiple':'category', 'OnlineSecurity':'category', 'OnlineBackup':'category',\n",
    "       'DeviceProtection':'category', 'TechSupport':'category', 'StreamingTV':'category', 'StreamingMovies':'category',\n",
    "       'PaperlessBilling':'category', 'PaymentMethod':'category', 'Tenure':float, 'MonthlyCharge':float,\n",
    "       'Bandwidth_GB_Year':float, 'timely_responses':int, 'timely_fixes':int, 'timely_replacements':int, 'reliability':int, 'options':int,\n",
    "       'respectful_response':int, 'courteous_exchange':int, 'evidence_of_active_listening':int}, copy=False)\n",
    "\n",
    "# return our new dataframe of datatypes\n",
    "get_dtypes(df)"
   ]
  },
  {
   "cell_type": "markdown",
   "id": "d4ce6c81-1113-4a2f-af09-b4ccf1184ad5",
   "metadata": {},
   "source": []
  },
  {
   "cell_type": "markdown",
   "id": "1019f1b3-f81d-4dad-b9d7-61d39de93cc3",
   "metadata": {},
   "source": []
  },
  {
   "cell_type": "code",
   "execution_count": null,
   "id": "a3e5755b-7595-46e8-8d15-9616a6223025",
   "metadata": {},
   "outputs": [],
   "source": [
    "# get a list of all possible areas\n",
    "areas = df['Area'].unique()\n",
    "\n",
    "# assign the mean populations in each area to the area in a dictionary\n",
    "area_dict = {}\n",
    "for i in areas:\n",
    "    area_dict[i] = df.loc[df['Area'] == i]['Population'].mean()\n",
    "\n",
    "# assign the mean area populations to the missing population values based on their area in the dictionary.\n",
    "for k, v in area_dict.items():\n",
    "    df.loc[(df['Population'] == 0) & (df['Area'] == k), 'Population'] = v"
   ]
  },
  {
   "cell_type": "markdown",
   "id": "34bf5fc0-18f5-49dc-b5b9-a6dda0cecee8",
   "metadata": {},
   "source": []
  },
  {
   "cell_type": "code",
   "execution_count": null,
   "id": "eea2a9a4-f6f5-49b0-ab7d-1b5e9f40be8a",
   "metadata": {},
   "outputs": [],
   "source": [
    "# assign 0 to negative values for outage seconds per week\n",
    "df.loc[df['Outage_sec_perweek'] < 0, 'Outage_sec_perweek'] = 0"
   ]
  },
  {
   "cell_type": "markdown",
   "id": "9d9f135b-a5e5-4962-8927-80c8372a5656",
   "metadata": {},
   "source": []
  },
  {
   "cell_type": "markdown",
   "id": "6781db3b-c1d5-46d9-939c-9a3e8b4f313e",
   "metadata": {},
   "source": []
  },
  {
   "cell_type": "markdown",
   "id": "a882228c-5e64-4c04-86c5-6a66d1333b52",
   "metadata": {},
   "source": []
  },
  {
   "cell_type": "code",
   "execution_count": null,
   "id": "93651c94-e0ac-4f3f-bd08-bdb3c8eb3287",
   "metadata": {},
   "outputs": [],
   "source": []
  }
 ],
 "metadata": {
  "kernelspec": {
   "display_name": "Python 3",
   "language": "python",
   "name": "python3"
  },
  "language_info": {
   "codemirror_mode": {
    "name": "ipython",
    "version": 3
   },
   "file_extension": ".py",
   "mimetype": "text/x-python",
   "name": "python",
   "nbconvert_exporter": "python",
   "pygments_lexer": "ipython3",
   "version": "3.9.6"
  }
 },
 "nbformat": 4,
 "nbformat_minor": 5
}
